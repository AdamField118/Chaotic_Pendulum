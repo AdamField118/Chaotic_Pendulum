{
 "cells": [
  {
   "cell_type": "markdown",
   "metadata": {},
   "source": [
    "$$\\underline{\\textbf{Making a Model a Simulating a Simple Pendulum}}$$\n",
    "\n",
    "This notebook will serve as a proof-of-concept for our project, showing that we can extend this concept to a physical pendulum and later a chaotic double pendulum.  \n",
    "This notebook will follow the following general lay out:  \n",
    "$\\textbf{Step 1}$: Developing a Mathematical Model  \n",
    "$\\textbf{Step 2}$: Generating Plots of Data  \n",
    "$\\textbf{Step 3}$: Generating a Simulation  "
   ]
  },
  {
   "cell_type": "markdown",
   "metadata": {},
   "source": [
    "$$\\underline{\\textbf{Step 1: Developing a Mathematical Model}}$$\n",
    "I would like to first get the equations of motion in polar coordinates using the Euler-Lagrange equations.  \n",
    "Let me draw a picture for clarity  "
   ]
  },
  {
   "cell_type": "markdown",
   "metadata": {
    "vscode": {
     "languageId": "html"
    }
   },
   "source": [
    "<p align=\"center\"><img src=\"./images/pendulum.jpg\" alt=\"drawing\" width=\"400\"/></p>"
   ]
  },
  {
   "cell_type": "markdown",
   "metadata": {},
   "source": [
    "Now we can easily define the kinetic and potential a follows  \n",
    "$$T=\\frac{1}{2}mL^2\\dot{\\theta}$$\n",
    "$$V=mgL(1-\\cos(\\theta))$$\n",
    "Which leads to the Lagrangian  \n",
    "$$L=T-V=\\frac{1}{2}mL^2\\dot{\\theta}-mgL(1-\\cos(\\theta))$$\n",
    "The Euler-Lagrange equation gives  \n",
    "$$\\frac{\\partial}{\\partial t}\\left(\\frac{\\partial L}{\\partial \\dot{\\theta}}\\right)-\\frac{\\partial L}{\\delta \\theta}=0$$\n",
    "And we know \n",
    "$$\\frac{\\partial L}{\\partial \\dot{\\theta}}=mL^2\\dot{\\theta}\\implies\\frac{\\partial}{\\partial t}\\left(\\frac{\\partial L}{\\partial \\dot{\\theta}}\\right)=mL^2\\ddot{\\theta}$$\n",
    "$$\\frac{\\partial L}{\\delta \\theta}=-mgL\\sin(\\theta)$$\n",
    "Plugging into the Euler-Lagrange equation gives \n",
    "$$mL^2\\ddot{\\theta}+mgL\\sin(\\theta)=0$$\n",
    "Cancelling the common terms (L and m) and dividing the entire equation by L gives the recognizable equation \n",
    "$$\\ddot{\\theta}+\\frac{g}{L}\\sin(\\theta)=0$$"
   ]
  },
  {
   "cell_type": "markdown",
   "metadata": {},
   "source": []
  },
  {
   "cell_type": "code",
   "execution_count": null,
   "metadata": {},
   "outputs": [],
   "source": []
  }
 ],
 "metadata": {
  "kernelspec": {
   "display_name": "Python 3",
   "language": "python",
   "name": "python3"
  },
  "language_info": {
   "codemirror_mode": {
    "name": "ipython",
    "version": 3
   },
   "file_extension": ".py",
   "mimetype": "text/x-python",
   "name": "python",
   "nbconvert_exporter": "python",
   "pygments_lexer": "ipython3",
   "version": "3.11.9"
  }
 },
 "nbformat": 4,
 "nbformat_minor": 2
}
